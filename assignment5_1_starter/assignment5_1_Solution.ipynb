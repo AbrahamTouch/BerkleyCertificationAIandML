{
 "cells": [
  {
   "cell_type": "markdown",
   "id": "b621aba2-c713-4873-8b71-3960dde31efd",
   "metadata": {},
   "source": [
    "# Required Assignment 5.1: Will the Customer Accept the Coupon?\n",
    "\n",
    "**Context**\n",
    "\n",
    "Imagine driving through town and a coupon is delivered to your cell phone for a restaurant near where you are driving. Would you accept that coupon and take a short detour to the restaurant? Would you accept the coupon but use it on a subsequent trip? Would you ignore the coupon entirely? What if the coupon was for a bar instead of a restaurant? What about a coffee house? Would you accept a bar coupon with a minor passenger in the car? What about if it was just you and your partner in the car? Would weather impact the rate of acceptance? What about the time of day?\n",
    "\n",
    "Obviously, proximity to the business is a factor on whether the coupon is delivered to the driver or not, but what are the factors that determine whether a driver accepts the coupon once it is delivered to them? How would you determine whether a driver is likely to accept a coupon?\n",
    "\n",
    "**Overview**\n",
    "\n",
    "The goal of this project is to use what you know about visualizations and probability distributions to distinguish between customers who accepted a driving coupon versus those that did not.\n",
    "\n",
    "**Data**\n",
    "\n",
    "This data comes to us from the UCI Machine Learning repository and was collected via a survey on Amazon Mechanical Turk. The survey describes different driving scenarios including the destination, current time, weather, passenger, etc., and then ask the person whether he will accept the coupon if he is the driver. Answers that the user will drive there ‘right away’ or ‘later before the coupon expires’ are labeled as ‘Y = 1’ and answers ‘no, I do not want the coupon’ are labeled as ‘Y = 0’.  There are five different types of coupons -- less expensive restaurants (under \\$20), coffee houses, carry out & take away, bar, and more expensive restaurants (\\$20 - $50).\n"
   ]
  },
  {
   "cell_type": "markdown",
   "id": "8d6331de-cdae-4bab-a14a-10793ba52e6b",
   "metadata": {},
   "source": [
    "## Import Libraries"
   ]
  },
  {
   "cell_type": "code",
   "execution_count": 1,
   "id": "c1275ba4-38a7-4a1d-b4aa-5fa06c59b528",
   "metadata": {},
   "outputs": [],
   "source": [
    "import pandas as pd\n",
    "import numpy as np\n",
    "import matplotlib.pyplot as plt\n",
    "import seaborn as sns\n",
    "import plotly.express as px\n",
    "import math"
   ]
  },
  {
   "cell_type": "markdown",
   "id": "9874bf53-eb7b-4a3e-9527-f7332a47efa2",
   "metadata": {},
   "source": [
    "## Import Data"
   ]
  },
  {
   "cell_type": "code",
   "execution_count": 2,
   "id": "704e0a9a-f7b3-43ed-b246-b12dc0d03a11",
   "metadata": {},
   "outputs": [],
   "source": [
    "data = pd.read_csv('data/coupons.csv')\n"
   ]
  },
  {
   "cell_type": "markdown",
   "id": "b7da0773-9a36-4ef2-9edd-6fc074c33040",
   "metadata": {},
   "source": [
    "## Inspect Data "
   ]
  },
  {
   "cell_type": "code",
   "execution_count": 3,
   "id": "b104069b-2b96-4cd1-8d2e-1e91700f4534",
   "metadata": {},
   "outputs": [
    {
     "name": "stdout",
     "output_type": "stream",
     "text": [
      "<class 'pandas.core.frame.DataFrame'>\n",
      "RangeIndex: 12684 entries, 0 to 12683\n",
      "Data columns (total 26 columns):\n",
      " #   Column                Non-Null Count  Dtype \n",
      "---  ------                --------------  ----- \n",
      " 0   destination           12684 non-null  object\n",
      " 1   passanger             12684 non-null  object\n",
      " 2   weather               12684 non-null  object\n",
      " 3   temperature           12684 non-null  int64 \n",
      " 4   time                  12684 non-null  object\n",
      " 5   coupon                12684 non-null  object\n",
      " 6   expiration            12684 non-null  object\n",
      " 7   gender                12684 non-null  object\n",
      " 8   age                   12684 non-null  object\n",
      " 9   maritalStatus         12684 non-null  object\n",
      " 10  has_children          12684 non-null  int64 \n",
      " 11  education             12684 non-null  object\n",
      " 12  occupation            12684 non-null  object\n",
      " 13  income                12684 non-null  object\n",
      " 14  car                   108 non-null    object\n",
      " 15  Bar                   12577 non-null  object\n",
      " 16  CoffeeHouse           12467 non-null  object\n",
      " 17  CarryAway             12533 non-null  object\n",
      " 18  RestaurantLessThan20  12554 non-null  object\n",
      " 19  Restaurant20To50      12495 non-null  object\n",
      " 20  toCoupon_GEQ5min      12684 non-null  int64 \n",
      " 21  toCoupon_GEQ15min     12684 non-null  int64 \n",
      " 22  toCoupon_GEQ25min     12684 non-null  int64 \n",
      " 23  direction_same        12684 non-null  int64 \n",
      " 24  direction_opp         12684 non-null  int64 \n",
      " 25  Y                     12684 non-null  int64 \n",
      "dtypes: int64(8), object(18)\n",
      "memory usage: 2.5+ MB\n",
      "None\n",
      "destination ['No Urgent Place' 'Home' 'Work']\n",
      "passanger ['Alone' 'Friend(s)' 'Kid(s)' 'Partner']\n",
      "weather ['Sunny' 'Rainy' 'Snowy']\n",
      "temperature [55 80 30]\n",
      "time ['2PM' '10AM' '6PM' '7AM' '10PM']\n",
      "coupon ['Restaurant(<20)' 'Coffee House' 'Carry out & Take away' 'Bar'\n",
      " 'Restaurant(20-50)']\n",
      "expiration ['1d' '2h']\n",
      "gender ['Female' 'Male']\n",
      "age ['21' '46' '26' '31' '41' '50plus' '36' 'below21']\n",
      "maritalStatus ['Unmarried partner' 'Single' 'Married partner' 'Divorced' 'Widowed']\n",
      "has_children [1 0]\n",
      "education ['Some college - no degree' 'Bachelors degree' 'Associates degree'\n",
      " 'High School Graduate' 'Graduate degree (Masters or Doctorate)'\n",
      " 'Some High School']\n",
      "occupation ['Unemployed' 'Architecture & Engineering' 'Student'\n",
      " 'Education&Training&Library' 'Healthcare Support'\n",
      " 'Healthcare Practitioners & Technical' 'Sales & Related' 'Management'\n",
      " 'Arts Design Entertainment Sports & Media' 'Computer & Mathematical'\n",
      " 'Life Physical Social Science' 'Personal Care & Service'\n",
      " 'Community & Social Services' 'Office & Administrative Support'\n",
      " 'Construction & Extraction' 'Legal' 'Retired'\n",
      " 'Installation Maintenance & Repair' 'Transportation & Material Moving'\n",
      " 'Business & Financial' 'Protective Service'\n",
      " 'Food Preparation & Serving Related' 'Production Occupations'\n",
      " 'Building & Grounds Cleaning & Maintenance' 'Farming Fishing & Forestry']\n",
      "income ['$37500 - $49999' '$62500 - $74999' '$12500 - $24999' '$75000 - $87499'\n",
      " '$50000 - $62499' '$25000 - $37499' '$100000 or More' '$87500 - $99999'\n",
      " 'Less than $12500']\n",
      "car [nan 'Scooter and motorcycle' 'crossover' 'Mazda5' 'do not drive'\n",
      " 'Car that is too old to install Onstar :D']\n",
      "Bar ['never' 'less1' '1~3' 'gt8' nan '4~8']\n",
      "CoffeeHouse ['never' 'less1' '4~8' '1~3' 'gt8' nan]\n",
      "CarryAway [nan '4~8' '1~3' 'gt8' 'less1' 'never']\n",
      "RestaurantLessThan20 ['4~8' '1~3' 'less1' 'gt8' nan 'never']\n",
      "Restaurant20To50 ['1~3' 'less1' 'never' 'gt8' '4~8' nan]\n",
      "toCoupon_GEQ5min [1]\n",
      "toCoupon_GEQ15min [0 1]\n",
      "toCoupon_GEQ25min [0 1]\n",
      "direction_same [0 1]\n",
      "direction_opp [1 0]\n",
      "Y [1 0]\n",
      "destination\n",
      "passanger\n",
      "weather\n",
      "temperature\n",
      "time\n",
      "coupon\n",
      "expiration\n",
      "gender\n",
      "age\n",
      "maritalStatus\n",
      "has_children\n",
      "education\n",
      "occupation\n",
      "income\n",
      "car\n",
      "Bar\n",
      "CoffeeHouse\n",
      "CarryAway\n",
      "RestaurantLessThan20\n",
      "Restaurant20To50\n",
      "toCoupon_GEQ5min\n",
      "toCoupon_GEQ15min\n",
      "toCoupon_GEQ25min\n",
      "direction_same\n",
      "direction_opp\n",
      "Y\n"
     ]
    },
    {
     "data": {
      "image/png": "[encoded data removed]",
      "text/plain": [
       "<Figure size 640x480 with 1 Axes>"
      ]
     },
     "metadata": {},
     "output_type": "display_data"
    }
   ],
   "source": [
    "#Iterate through the columns and discover potential values for each\n",
    "\n",
    "#Get column names\n",
    "data_column_names = list(data.columns)\n",
    "\n",
    "#Get the types of the columns\n",
    "print(data.info())\n",
    "\n",
    "#Get unique values present in the data for each column \n",
    "for data_column_name in data_column_names:\n",
    "    print(data_column_name, data[data_column_name].unique())\n",
    "\n",
    "#Get percent of nulls in the data for each attribute\n",
    "dataNumNulls= {}\n",
    "dataIsNulls = data.isnull()\n",
    "\n",
    "for columnName in data_column_names:\n",
    "    value = True\n",
    "    print(columnName)\n",
    "    # Using f-string to insert the column name variable\n",
    "    query_string = f\"`{columnName}` == {value}\"\n",
    "    dataNumNulls[columnName] = dataIsNulls.query(query_string).shape[0]\n",
    "\n",
    "dataNumNullSeries = pd.Series(dataNumNulls)\n",
    "\n",
    "dataNumNullsPercent = (dataNumNullSeries/data.shape[0]) * 100\n",
    "\n",
    "dataNumNullsPercent.plot.bar()\n",
    "\n",
    "plt.title('Null percentage')\n",
    "plt.xlabel('Attributes')\n",
    "plt.ylabel('Percent of Attributes Values that are Null')\n",
    "\n",
    "#Get total number of columns\n",
    "plt.show()\n"
   ]
  },
  {
   "cell_type": "code",
   "execution_count": null,
   "id": "7522dbc8-bcde-4094-b49c-a10ca2e8d767",
   "metadata": {},
   "outputs": [],
   "source": []
  },
  {
   "cell_type": "markdown",
   "id": "92e4229c-f611-4ce3-bd42-726d2e0c1340",
   "metadata": {},
   "source": [
    "<ins>Observations: </ins>\n",
    "- Values for coupon and the respective columns do not match. Replace the coupon values to match the column names in the data set\n",
    "- Car column is mostly null. We should remove it completely.\n",
    "- The number of nans in the Bar, CoffeeHouse, CarryAway, RestaurantLessThan20, Restaurant20To50 is low. Lets remove the rows with nans in those columns\n",
    "\n",
    "<ins>Assumptions(Should seek clarification on these points if possible):</ins> \n",
    "- For the purpose of this exercise Restautrant<20 coupon is for the same place the distance of RestaurantLessThan20 etc. They are talking about the same resturant.\n",
    "\n",
    "<ins>Filter Outliers:</ins>\n",
    "- Direction_same is always the opposite of direction_opp\n",
    "- Value of Y for Coupon VarX is 0 when frequency of VarX is \"never\" where VarX could be [Bar, CoffeeHouse, CarryAway, RestaurantLessThen20, Restaurant20to50]\n",
    "- If the weather is 'Snowy' temperature should not be 80\n",
    "- toCoupon_GEQ25min is 1 then toCoup_GEQ15min is 1. We already see toCoupon_GEQ5min is always 1."
   ]
  },
  {
   "cell_type": "markdown",
   "id": "42a4280d-0bec-467a-b4fa-ea427ffc3ff0",
   "metadata": {},
   "source": [
    "### Clean Data"
   ]
  },
  {
   "cell_type": "code",
   "execution_count": 4,
   "id": "52486af8-05a9-4d6d-84ff-1ebe4f7632bb",
   "metadata": {},
   "outputs": [
    {
     "name": "stdout",
     "output_type": "stream",
     "text": [
      "coupon ['RestaurantLessThan20' 'CoffeeHouse' 'CarryAway' 'Bar' 'Restaurant20To50']\n",
      " \n",
      "Index(['destination', 'passanger', 'weather', 'temperature', 'time', 'coupon',\n",
      "       'expiration', 'gender', 'age', 'maritalStatus', 'has_children',\n",
      "       'education', 'occupation', 'income', 'Bar', 'CoffeeHouse', 'CarryAway',\n",
      "       'RestaurantLessThan20', 'Restaurant20To50', 'toCoupon_GEQ5min',\n",
      "       'toCoupon_GEQ15min', 'toCoupon_GEQ25min', 'direction_same',\n",
      "       'direction_opp', 'Y'],\n",
      "      dtype='object')\n"
     ]
    }
   ],
   "source": [
    "#Replace coupon values to match there corresponding row\n",
    "dataV2=data.copy()\n",
    "dataV2['coupon']=dataV2['coupon'].str.replace('Restaurant(<20)','RestaurantLessThan20', regex=False)\n",
    "dataV2['coupon']=dataV2['coupon'].str.replace('Coffee House', 'CoffeeHouse', regex=False)\n",
    "dataV2['coupon']=dataV2['coupon'].str.replace('Carry out & Take away', 'CarryAway', regex=False)\n",
    "dataV2['coupon']=dataV2['coupon'].str.replace('Restaurant(20-50)', 'Restaurant20To50', regex=False)\n",
    "\n",
    "#Confirm change in values for coupon column\n",
    "print('coupon', dataV2['coupon'].unique())\n",
    "print(' ')\n",
    "\n",
    "#remove car column\n",
    "dataV2.drop('car', axis=1, inplace=True)\n",
    "\n",
    "\n",
    "#Confirm column removal\n",
    "print(dataV2.columns)\n",
    "\n",
    "#remove remaining na containing rows\n",
    "dataV2.dropna(subset = ['RestaurantLessThan20', 'CoffeeHouse', 'CarryAway', 'Restaurant20To50', 'Bar'], inplace=True)\n"
   ]
  },
  {
   "cell_type": "markdown",
   "id": "f0651701-7cd0-4eb3-a246-2f4a3bc4dac7",
   "metadata": {},
   "source": [
    "### Test Invariants"
   ]
  },
  {
   "cell_type": "code",
   "execution_count": 5,
   "id": "35bf0544-d621-49f4-be9d-758f38d44548",
   "metadata": {},
   "outputs": [
    {
     "data": {
      "text/plain": [
       "0"
      ]
     },
     "execution_count": 5,
     "metadata": {},
     "output_type": "execute_result"
    }
   ],
   "source": [
    "dataV2.query(\"direction_same == direction_opp\").shape[0] #value should be 0"
   ]
  },
  {
   "cell_type": "code",
   "execution_count": 6,
   "id": "bf77026a-7812-47a0-bd40-1764f06accd2",
   "metadata": {},
   "outputs": [
    {
     "name": "stdout",
     "output_type": "stream",
     "text": [
      "RestaurantLessThan20 0\n",
      "CoffeeHouse 0\n",
      "Bar 0\n",
      "CarryAway 0\n",
      "Restaurant20To50 0\n"
     ]
    }
   ],
   "source": [
    "for coupon_value in list(dataV2['coupon'].unique()):\n",
    "    print(coupon_value, dataV2.query(\"coupon == @coupon_value and @coupon_value == 'never' and Y == 1\").shape[0]) #values should be 0"
   ]
  },
  {
   "cell_type": "code",
   "execution_count": 7,
   "id": "693d8556-d891-4097-b7de-4c2d9f67cfab",
   "metadata": {},
   "outputs": [
    {
     "data": {
      "text/plain": [
       "0"
      ]
     },
     "execution_count": 7,
     "metadata": {},
     "output_type": "execute_result"
    }
   ],
   "source": [
    "dataV2.query(\"weather == 'Snow' and temperature != 80\").shape[0] #value should be 0"
   ]
  },
  {
   "cell_type": "code",
   "execution_count": 8,
   "id": "6ef88b99-4965-4a8d-98ef-98370ac8993c",
   "metadata": {},
   "outputs": [
    {
     "data": {
      "text/plain": [
       "0"
      ]
     },
     "execution_count": 8,
     "metadata": {},
     "output_type": "execute_result"
    }
   ],
   "source": [
    "dataV2.query(\"toCoupon_GEQ25min == 1 and toCoupon_GEQ15min == 0\").shape[0] #value should be 0"
   ]
  },
  {
   "cell_type": "markdown",
   "id": "8dcaeb16-045a-4b89-8238-4f1a5cdffac1",
   "metadata": {},
   "source": [
    "## Begin Analysis"
   ]
  },
  {
   "cell_type": "code",
   "execution_count": 9,
   "id": "d71b1b77-4922-4b13-bb05-0c0623ef94bb",
   "metadata": {},
   "outputs": [],
   "source": [
    "### From prompt"
   ]
  },
  {
   "cell_type": "markdown",
   "id": "5d248a9e-729a-45ec-95ee-f007dd70e237",
   "metadata": {},
   "source": [
    "What proportion of the total observations chose to accept the coupon?"
   ]
  },
  {
   "cell_type": "code",
   "execution_count": 10,
   "id": "9794b07e-4b45-48c0-b68a-8488a4601531",
   "metadata": {},
   "outputs": [
    {
     "name": "stdout",
     "output_type": "stream",
     "text": [
      "56.93352098683666 percent \n"
     ]
    }
   ],
   "source": [
    "print(str(dataV2.query( \"Y == 1\").shape[0]/dataV2.shape[0]*100) + \" percent \")"
   ]
  },
  {
   "cell_type": "markdown",
   "id": "48e44cfe-d2d0-4d3c-94f5-93fe9e4efb09",
   "metadata": {},
   "source": [
    "Use a bar plot to visualize the coupon column."
   ]
  },
  {
   "cell_type": "code",
   "execution_count": 11,
   "id": "a62f55f6-3a37-414b-aaa9-b8ac6f3691b1",
   "metadata": {},
   "outputs": [
    {
     "data": {
      "image/png": "[encoded data removed]",
      "text/plain": [
       "<Figure size 640x480 with 1 Axes>"
      ]
     },
     "metadata": {},
     "output_type": "display_data"
    }
   ],
   "source": [
    "index_labels = [\"No\", \"Yes\"]\n",
    "\n",
    "list_data = {\n",
    "    'response': (dataV2.query(\"Y == 0\").shape[0], dataV2.query(\"Y == 1\").shape[0]),\n",
    "    'total_responses': (dataV2.shape[0], dataV2.shape[0])\n",
    "}\n",
    "\n",
    "x = np.arange(len(index_labels))  # the label locations\n",
    "width = 0.25  # the width of the bars\n",
    "multiplier = 0\n",
    "\n",
    "fig, ax = plt.subplots(layout='constrained')\n",
    "\n",
    "for attribute, measurement in list_data.items():\n",
    "    offset = width * multiplier\n",
    "    rects = ax.bar(x + offset, measurement, width, label=attribute)\n",
    "    ax.bar_label(rects, padding=3)\n",
    "    multiplier += 1\n",
    "\n",
    "# Add some text for labels, title and custom x-axis tick labels, etc.\n",
    "ax.set_ylabel('Number of Responses')\n",
    "ax.set_title('Responses for Coupons')\n",
    "ax.set_xticks(x + width, index_labels)\n",
    "ax.legend(loc=(1.04, 0), ncols=2)\n",
    "\n",
    "\n",
    "plt.show()\n"
   ]
  },
  {
   "cell_type": "markdown",
   "id": "518a84fc-6d36-4cec-98ea-e2b65f224596",
   "metadata": {},
   "source": [
    "Use a histogram to visualize the temperature column."
   ]
  },
  {
   "cell_type": "code",
   "execution_count": 12,
   "id": "7b1d8627-c993-442b-a37f-d1e8865432cf",
   "metadata": {},
   "outputs": [
    {
     "data": {
      "text/plain": [
       "<Axes: xlabel='temperature', ylabel='Count'>"
      ]
     },
     "execution_count": 12,
     "metadata": {},
     "output_type": "execute_result"
    },
    {
     "data": {
      "image/png": "[encoded data removed]",
      "text/plain": [
       "<Figure size 640x480 with 1 Axes>"
      ]
     },
     "metadata": {},
     "output_type": "display_data"
    }
   ],
   "source": [
    "\n",
    "\n",
    "temperatureDataSlice = dataV2['temperature']\n",
    "\n",
    "#Seaborn has better histograms then matplotlib currently in my opinion\n",
    "#Parameters for Seaborn histogram plots https://seaborn.pydata.org/generated/seaborn.histplot.html\n",
    "\n",
    "sns.histplot(data=dataV2, x='temperature', discrete = True, kde = True)\n",
    "\n"
   ]
  },
  {
   "cell_type": "markdown",
   "id": "8b713412-79ae-48ce-9c58-22e704f9a61c",
   "metadata": {},
   "source": [
    "**Investigating the Bar Coupons**\n",
    "\n",
    "Now, we will lead you through an exploration of just the bar related coupons.  \n",
    "\n",
    "1. Create a new `DataFrame` that contains just the bar coupons."
   ]
  },
  {
   "cell_type": "code",
   "execution_count": 13,
   "id": "6c87076d-b70a-4c18-9c8b-97a48cb00e5c",
   "metadata": {},
   "outputs": [
    {
     "data": {
      "text/plain": [
       "pandas.core.frame.DataFrame"
      ]
     },
     "execution_count": 13,
     "metadata": {},
     "output_type": "execute_result"
    }
   ],
   "source": [
    "barData = dataV2.query(\"coupon == 'Bar'\")\n",
    "type(barData)"
   ]
  },
  {
   "cell_type": "markdown",
   "id": "0715687b-d4dd-4d5f-b3cc-b1e990ecec5b",
   "metadata": {},
   "source": [
    "2. What proportion of bar coupons were accepted?"
   ]
  },
  {
   "cell_type": "code",
   "execution_count": 14,
   "id": "7161ba26-4cef-4962-bb98-e14dc50c9b83",
   "metadata": {},
   "outputs": [
    {
     "name": "stdout",
     "output_type": "stream",
     "text": [
      "41.19184526921067 percent \n"
     ]
    }
   ],
   "source": [
    "print(str(barData.query( \"Y == 1\").shape[0]/barData.shape[0]*100) + \" percent \")"
   ]
  },
  {
   "cell_type": "markdown",
   "id": "7a517dc5-3037-4ced-bfc7-14b53e4a2b4d",
   "metadata": {},
   "source": [
    "3. Compare the acceptance rate between those who went to a bar 3 or fewer times a month to those who went more."
   ]
  },
  {
   "cell_type": "code",
   "execution_count": 15,
   "id": "0e598ae4-aefe-4bbf-904c-06c036d76c5b",
   "metadata": {},
   "outputs": [
    {
     "name": "stdout",
     "output_type": "stream",
     "text": [
      "The acceptance rate when the target went three or less times is 37.26744186046512 percent \n",
      "The acceptance rate when the target went more then three times is 8.546511627906977 percent \n"
     ]
    }
   ],
   "source": [
    "ThreeOrLessValues = ['never', 'less1', '1~3']\n",
    "\n",
    "numSentThreeOrLessBar = barData.query( \"Bar.isin(@ThreeOrLessValues)\").shape[0]\n",
    "numAcceptanceRateThreeOrLessBar = barData.query( \"Y == 1 and Bar.isin(@ThreeOrLessValues)\").shape[0]\n",
    "numAcceptanceRateMoreThenThreeBar = barData.query( \"Y == 1 and ~Bar.isin(@ThreeOrLessValues)\").shape[0]\n",
    "\n",
    "acceptanceRateThreeOrLessBar = (str(numAcceptanceRateThreeOrLessBar/numSentThreeOrLessBar*100) + \" percent \")\n",
    "print('The acceptance rate when the target went three or less times is ' + acceptanceRateThreeOrLessBar)\n",
    "\n",
    "\n",
    "\n",
    "acceptanceRateMoreThenThreeBar = (str(numAcceptanceRateMoreThenThreeBar/numSentThreeOrLessBar*100) + \" percent \")\n",
    "print('The acceptance rate when the target went more then three times is ' + acceptanceRateMoreThenThreeBar)\n"
   ]
  },
  {
   "cell_type": "markdown",
   "id": "53e40096-0da5-457c-a846-a4c1655aa65d",
   "metadata": {},
   "source": [
    "4. Compare the acceptance rate between drivers who go to a bar more than once a month and are over the age of 25 to the all others.  Is there a difference?\n"
   ]
  },
  {
   "cell_type": "code",
   "execution_count": 16,
   "id": "575edb5e-9c3d-4baa-b1e5-0c8562c65503",
   "metadata": {},
   "outputs": [
    {
     "name": "stdout",
     "output_type": "stream",
     "text": [
      "The acceptance rate when the target goes to the bar more then one time a month and is older then 25 68.98263027295285 percent \n",
      "The acceptance rate when the target does not go to the bar more then one time a month and is older then 25 26.744186046511626 percent \n"
     ]
    }
   ],
   "source": [
    "OneOrMoreTimesBarValues = ['1~3', 'gt8','4~8']\n",
    "GreaterThen25AgeValues = ['46', '26', '31', '41', '50plus', '36']\n",
    "\n",
    "numSentOneOrMoreBarGreaterThen25Age = barData.query( \"Bar.isin(@OneOrMoreTimesBarValues) and age.isin(@GreaterThen25AgeValues)\").shape[0]\n",
    "numRateOneOrMoreBarGreaterThen25Age = barData.query( \"Y == 1 and Bar.isin(@OneOrMoreTimesBarValues) and age.isin(@GreaterThen25AgeValues)\").shape[0]\n",
    "\n",
    "acceptanceRateOneOrMoreBarGreaterThen25Age = (str(numRateOneOrMoreBarGreaterThen25Age/numSentOneOrMoreBarGreaterThen25Age*100) + \" percent \")\n",
    "\n",
    "print('The acceptance rate when the target goes to the bar more then one time a month and is older then 25 ' + acceptanceRateOneOrMoreBarGreaterThen25Age)\n",
    "\n",
    "numSentNotOneOrMoreBarGreaterThen25Age = barData.query( \"~Bar.isin(@OneOrMoreTimesBarValues) and age.isin(@GreaterThen25AgeValues)\").shape[0]\n",
    "numRateNotOneOrMoreBarGreaterThen25Age = barData.query( \"Y == 1 and ~Bar.isin(@OneOrMoreTimesBarValues) and age.isin(@GreaterThen25AgeValues)\").shape[0]\n",
    "\n",
    "acceptanceRateLessThenOneBarLessThen25Age = (str(numRateNotOneOrMoreBarGreaterThen25Age/numSentNotOneOrMoreBarGreaterThen25Age*100) + \" percent \")\n",
    "\n",
    "print('The acceptance rate when the target does not go to the bar more then one time a month and is older then 25 ' + acceptanceRateLessThenOneBarLessThen25Age)\n",
    "\n"
   ]
  },
  {
   "cell_type": "markdown",
   "id": "8253e121-0519-4cc5-b66b-098cc1ebb757",
   "metadata": {},
   "source": [
    "5. Use the same process to compare the acceptance rate between drivers who go to bars more than once a month and had passengers that were not a kid and had occupations other than farming, fishing, or forestry."
   ]
  },
  {
   "cell_type": "code",
   "execution_count": 17,
   "id": "b22e431c-16ad-4043-b622-4deb2ad5617b",
   "metadata": {},
   "outputs": [
    {
     "name": "stdout",
     "output_type": "stream",
     "text": [
      "Go to bars more then once and no kid passenger and not in rural occupation acceptance rate is  70.94339622641509 percent \n"
     ]
    }
   ],
   "source": [
    "OneOrMoreTimesBarValues = ['1~3', 'gt8','4~8']\n",
    "PassengersThatWereNotAKidValues = ['Alone','Friend(s)','Partner']\n",
    "FarmingFishingForestryOccupationValue = 'Farming Fishing & Forestry'\n",
    "\n",
    "numSentBarsMoreThenOncePassengersThatWereNotAKidNotInFarmingFishinForestyOccupationValue = barData.query( \"Bar.isin(@OneOrMoreTimesBarValues) and passanger.isin(@PassengersThatWereNotAKidValues) and occupation != @FarmingFishingForestryOccupationValue\").shape[0]\n",
    "numRateBarsMoreThenOncePassengersThatWereNotAKidNotInFarmingFishinForestyOccupationValue = barData.query( \"Y == 1 and Bar.isin(@OneOrMoreTimesBarValues) and passanger.isin(@PassengersThatWereNotAKidValues) and occupation != @FarmingFishingForestryOccupationValue\").shape[0]\n",
    "\n",
    "acceptanceRate = (str(numRateBarsMoreThenOncePassengersThatWereNotAKidNotInFarmingFishinForestyOccupationValue/numSentBarsMoreThenOncePassengersThatWereNotAKidNotInFarmingFishinForestyOccupationValue*100) + \" percent \")\n",
    "\n",
    "print('Go to bars more then once and no kid passenger and not in rural occupation acceptance rate is  ' + acceptanceRate)\n"
   ]
  },
  {
   "cell_type": "markdown",
   "id": "9206453d-5b88-43d2-9556-523370ad656e",
   "metadata": {},
   "source": [
    "6. Compare the acceptance rates between those drivers who:\n",
    "\n",
    "- go to bars more than once a month, had passengers that were not a kid, and were not widowed *OR*\n",
    "- go to bars more than once a month and are under the age of 30 *OR*\n",
    "- go to cheap restaurants more than 4 times a month and income is less than 50K.\n"
   ]
  },
  {
   "cell_type": "code",
   "execution_count": 18,
   "id": "9c04f0da-ae95-41e8-aae0-afabd3c34a81",
   "metadata": {},
   "outputs": [
    {
     "name": "stdout",
     "output_type": "stream",
     "text": [
      "go to bars more than once a month, had passengers that were not a kid, and were not widowed acceptance rate 70.94339622641509\n",
      "go to bars more than once a month and are under the age of 30 acceptance rate 71.95121951219512\n",
      "go to cheap restaurants more than 4 times a month and income is less than 50K acceptance rate 45.645645645645644\n"
     ]
    }
   ],
   "source": [
    "OneOrMoreTimesBarValues = ['1~3', 'gt8','4~8'] #Bar\n",
    "PassengersThatWereNotAKidValues = ['Alone','Friend(s)','Partner'] #passenger\n",
    "MaritalStatusWidowedValue = 'Widowed' #maritalStatus  \n",
    "UnderThe30AgeValues = ['21', '26', 'below21'] #age\n",
    "CheapResturantsMoreThen4TimesValues = ['4~8', 'gt8'] #RestaurantLessThan20  \n",
    "IncomeLessThen50k = ['$37500 - $49999', '$12500 - $24999', '$25000 - $37499', 'Less than $12500'] #income                \n",
    "\n",
    "numSentBarsMoreThenOncePassengersThatWereNotAKidNotWidow = barData.query( \"Bar.isin(@OneOrMoreTimesBarValues) and passanger.isin(@PassengersThatWereNotAKidValues) and maritalStatus != @MaritalStatusWidowedValue\").shape[0]\n",
    "numRateBarsMoreThenOncePassengersThatWereNotAKidNotWidow = barData.query( \"Y == 1 and Bar.isin(@OneOrMoreTimesBarValues) and passanger.isin(@PassengersThatWereNotAKidValues) and maritalStatus != @MaritalStatusWidowedValue\").shape[0]\n",
    "\n",
    "print(\"go to bars more than once a month, had passengers that were not a kid, and were not widowed acceptance rate \" + str(numRateBarsMoreThenOncePassengersThatWereNotAKidNotWidow/numSentBarsMoreThenOncePassengersThatWereNotAKidNotWidow*100))\n",
    "\n",
    "numSentBarsMoreThenOncePassengersAgeUnder30 = barData.query( \"Bar.isin(@OneOrMoreTimesBarValues) and age.isin(@UnderThe30AgeValues)\").shape[0]\n",
    "numRateBarsMoreThenOncePassengersAgeUnder30 = barData.query( \"Y == 1 and Bar.isin(@OneOrMoreTimesBarValues) and age.isin(@UnderThe30AgeValues)\").shape[0]\n",
    "\n",
    "print(\"go to bars more than once a month and are under the age of 30 acceptance rate \" + str(numRateBarsMoreThenOncePassengersAgeUnder30/numSentBarsMoreThenOncePassengersAgeUnder30*100))\n",
    "\n",
    "numSentCheapRestaurantsMoreThen4TimesIncomeLessThen50k = barData.query( \"RestaurantLessThan20.isin(@CheapResturantsMoreThen4TimesValues) and income.isin(@IncomeLessThen50k)\").shape[0]\n",
    "numRateCheapRestaurantsMoreThen4TimesIncomeLessThen50k = barData.query( \"Y == 1 and RestaurantLessThan20.isin(@CheapResturantsMoreThen4TimesValues) and income.isin(@IncomeLessThen50k)\").shape[0]\n",
    "\n",
    "print(\"go to cheap restaurants more than 4 times a month and income is less than 50K acceptance rate \" + str(numRateCheapRestaurantsMoreThen4TimesIncomeLessThen50k/numSentCheapRestaurantsMoreThen4TimesIncomeLessThen50k*100))\n",
    "\n"
   ]
  },
  {
   "cell_type": "markdown",
   "id": "e8a7b8b4-8c84-452e-86a8-c0ddcd775a18",
   "metadata": {},
   "source": [
    "7.  Based on these observations, what do you hypothesize about drivers who accepted the bar coupons?"
   ]
  },
  {
   "cell_type": "raw",
   "id": "0e109b77-d677-4a49-8c27-497e4d7bf999",
   "metadata": {},
   "source": [
    "Overall acceptance rate of bar coupons is around 40 percent. We see a trend of frequent bar attenders accepting the coupon more often then normal. "
   ]
  },
  {
   "cell_type": "markdown",
   "id": "eb19dffd-88c9-42b1-a278-962961d710a8",
   "metadata": {},
   "source": [
    "### Independent Investigation\n",
    "\n",
    "Using the bar coupon example as motivation, you are to explore one of the other coupon groups and try to determine the characteristics of passengers who accept the coupons. "
   ]
  },
  {
   "cell_type": "markdown",
   "id": "d5cf42b2-ae64-4328-8083-0a37fd0bffad",
   "metadata": {},
   "source": [
    "For my independant investigation I will explore what different attributes affect cheap restaurant acceptance."
   ]
  },
  {
   "cell_type": "markdown",
   "id": "f7d92f60-5d07-4d0c-a7bb-89be99855f99",
   "metadata": {},
   "source": [
    "What is the overall acceptance rate of the coupon for cheap restaurans?"
   ]
  },
  {
   "cell_type": "code",
   "execution_count": 19,
   "id": "c1c54c0b-f13f-44c3-970d-0ebea0553d23",
   "metadata": {},
   "outputs": [
    {
     "name": "stdout",
     "output_type": "stream",
     "text": [
      "70.9008669430833 percent \n"
     ]
    }
   ],
   "source": [
    "cheapRestaurantData = dataV2.query(\"coupon == 'RestaurantLessThan20'\")\n",
    "print(str(cheapRestaurantData.query( \"Y == 1\").shape[0]/cheapRestaurantData.shape[0]*100) + \" percent \")"
   ]
  },
  {
   "cell_type": "markdown",
   "id": "2d77133a-74dc-42e6-82e9-8c195e3f491f",
   "metadata": {},
   "source": [
    "What is the acceptance rate based on proximity to the venue?"
   ]
  },
  {
   "cell_type": "code",
   "execution_count": 20,
   "id": "4190e668-8ec0-446c-8a49-8c96e9b01311",
   "metadata": {},
   "outputs": [
    {
     "name": "stdout",
     "output_type": "stream",
     "text": [
      "Acceptance rate less then 25 min out 75.47806524184477\n",
      "Acceptance rate less then 15 min out 70.94339622641509\n"
     ]
    }
   ],
   "source": [
    "\n",
    "numSent25MinOutGreaterThen15MinOut = cheapRestaurantData.query(\"toCoupon_GEQ25min == 0 and toCoupon_GEQ15min == 1 \").shape[0]\n",
    "numRate25MinOutGreaterThen15MinOut = cheapRestaurantData.query( \"Y == 1 and toCoupon_GEQ25min == 0 and toCoupon_GEQ15min == 1\").shape[0]\n",
    "\n",
    "print(\"Acceptance rate less then 25 min out \" + str(numRate25MinOutGreaterThen15MinOut/numSent25MinOutGreaterThen15MinOut * 100))\n",
    "\n",
    "\n",
    "numSent15MinOut = cheapRestaurantData.query(\"toCoupon_GEQ15min == 0 \").shape[0]\n",
    "numRate15MinOut = cheapRestaurantData.query( \"Y == 1 and toCoupon_GEQ15min == 0 \").shape[0]\n",
    "\n",
    "print(\"Acceptance rate less then 15 min out \" + str(numRateBarsMoreThenOncePassengersThatWereNotAKidNotWidow/numSentBarsMoreThenOncePassengersThatWereNotAKidNotWidow * 100))\n"
   ]
  },
  {
   "cell_type": "raw",
   "id": "b2339e67-1b50-4955-bf8d-57fcff6127c1",
   "metadata": {},
   "source": [
    "What is the acceptance rate based on direction to venue?"
   ]
  },
  {
   "cell_type": "code",
   "execution_count": 21,
   "id": "0d6efd43-ca42-4ca4-a11c-bc72f8728b46",
   "metadata": {},
   "outputs": [
    {
     "name": "stdout",
     "output_type": "stream",
     "text": [
      "Acceptance rate direction the same 63.48547717842323\n",
      "Acceptance rate direction the opposite 72.54721326577615\n"
     ]
    }
   ],
   "source": [
    "\n",
    "numSentDirectionSame = cheapRestaurantData.query(\"direction_same  == 1\").shape[0]\n",
    "numRateDirectionSame = cheapRestaurantData.query( \"Y == 1 and direction_same  == 1\").shape[0]\n",
    "\n",
    "print(\"Acceptance rate direction the same \" + str(numRateDirectionSame/numSentDirectionSame * 100))\n",
    "\n",
    "\n",
    "\n",
    "numSentDirectionOpposite = cheapRestaurantData.query(\"direction_same  == 0\").shape[0]\n",
    "numRateDirectionOpposite = cheapRestaurantData.query( \"Y == 1 and direction_same  == 0\").shape[0]\n",
    "\n",
    "print(\"Acceptance rate direction the opposite \" + str(numRateDirectionOpposite/numSentDirectionOpposite * 100))\n"
   ]
  },
  {
   "cell_type": "markdown",
   "id": "fc0e7cc0-ad4f-4351-b976-af7a1273dab1",
   "metadata": {},
   "source": [
    "Which Occupation had the highest acceptance rate for cheap restaurants?"
   ]
  },
  {
   "cell_type": "code",
   "execution_count": 22,
   "id": "04073b86-5c35-4204-9391-a0a031332856",
   "metadata": {},
   "outputs": [
    {
     "name": "stdout",
     "output_type": "stream",
     "text": [
      "Acceptance rate Unemployed 67.00251889168766\n",
      "Acceptance rate Architecture & Engineering 79.48717948717949\n",
      "Acceptance rate Student 71.47239263803681\n",
      "Acceptance rate Education&Training&Library 67.33668341708542\n",
      "Acceptance rate Healthcare Support 73.58490566037736\n",
      "Acceptance rate Healthcare Practitioners & Technical 77.77777777777779\n",
      "Acceptance rate Sales & Related 79.82832618025752\n",
      "Acceptance rate Management 73.14285714285714\n",
      "Acceptance rate Arts Design Entertainment Sports & Media 67.74193548387096\n",
      "Acceptance rate Computer & Mathematical 70.79037800687286\n",
      "Acceptance rate Life Physical Social Science 83.33333333333334\n",
      "Acceptance rate Personal Care & Service 55.88235294117647\n",
      "Acceptance rate Community & Social Services 67.3913043478261\n",
      "Acceptance rate Office & Administrative Support 77.27272727272727\n",
      "Acceptance rate Construction & Extraction 88.57142857142857\n",
      "Acceptance rate Legal 59.183673469387756\n",
      "Acceptance rate Retired 58.0952380952381\n",
      "Acceptance rate Installation Maintenance & Repair 70.37037037037037\n",
      "Acceptance rate Transportation & Material Moving 73.91304347826086\n",
      "Acceptance rate Business & Financial 65.83333333333333\n",
      "Acceptance rate Protective Service 89.47368421052632\n",
      "Acceptance rate Food Preparation & Serving Related 69.6969696969697\n",
      "Acceptance rate Production Occupations 80.0\n",
      "Acceptance rate Building & Grounds Cleaning & Maintenance 40.0\n",
      "Acceptance rate Farming Fishing & Forestry 57.14285714285714\n"
     ]
    }
   ],
   "source": [
    "for data_column_value in data['occupation'].unique():\n",
    "    numSent = cheapRestaurantData.query(\"occupation == @data_column_value\").shape[0]\n",
    "    numAccepted = cheapRestaurantData.query( \"Y == 1 and occupation == @data_column_value\").shape[0]\n",
    "    print(\"Acceptance rate \"+ data_column_value + \" \" + str(numAccepted/numSent * 100))"
   ]
  },
  {
   "cell_type": "raw",
   "id": "4cb783b5-9e38-4452-abbb-e8e56af1721a",
   "metadata": {},
   "source": [
    "Which Income had the highest acceptance rate?"
   ]
  },
  {
   "cell_type": "code",
   "execution_count": 23,
   "id": "e9ab4272-30ed-4b15-b6f4-591e26b59315",
   "metadata": {},
   "outputs": [
    {
     "name": "stdout",
     "output_type": "stream",
     "text": [
      "Acceptance rate $37500 - $49999 68.29268292682927\n",
      "Acceptance rate $62500 - $74999 69.5187165775401\n",
      "Acceptance rate $12500 - $24999 67.90450928381962\n",
      "Acceptance rate $75000 - $87499 68.85245901639344\n",
      "Acceptance rate $50000 - $62499 77.34138972809667\n",
      "Acceptance rate $25000 - $37499 76.70588235294117\n",
      "Acceptance rate $100000 or More 71.81571815718158\n",
      "Acceptance rate $87500 - $99999 57.608695652173914\n",
      "Acceptance rate Less than $12500 71.9298245614035\n"
     ]
    }
   ],
   "source": [
    "for data_column_value in data['income'].unique():\n",
    "    numSent = cheapRestaurantData.query(\"income == @data_column_value\").shape[0]\n",
    "    numAccepted = cheapRestaurantData.query( \"Y == 1 and income == @data_column_value\").shape[0]\n",
    "    print(\"Acceptance rate \"+ data_column_value + \" \" + str(numAccepted/numSent * 100))"
   ]
  },
  {
   "cell_type": "markdown",
   "id": "30471c96-91d5-4b49-b6ef-4fb94cd890be",
   "metadata": {},
   "source": [
    "Which education level had the highest aceptance rate?"
   ]
  },
  {
   "cell_type": "code",
   "execution_count": 24,
   "id": "4fd08743-67b8-4634-adb1-c1551254e787",
   "metadata": {},
   "outputs": [
    {
     "name": "stdout",
     "output_type": "stream",
     "text": [
      "Acceptance rate Some college - no degree 73.93162393162393\n",
      "Acceptance rate Bachelors degree 73.12925170068027\n",
      "Acceptance rate Associates degree 65.9090909090909\n",
      "Acceptance rate High School Graduate 71.50537634408603\n",
      "Acceptance rate Graduate degree (Masters or Doctorate) 61.55717761557178\n",
      "Acceptance rate Some High School 72.22222222222221\n"
     ]
    }
   ],
   "source": [
    "for data_column_value in data['education'].unique():\n",
    "    numSent = cheapRestaurantData.query(\"education == @data_column_value\").shape[0]\n",
    "    numAccepted = cheapRestaurantData.query( \"Y == 1 and education == @data_column_value\").shape[0]\n",
    "    print(\"Acceptance rate \"+ data_column_value + \" \" + str(numAccepted/numSent * 100))"
   ]
  },
  {
   "cell_type": "markdown",
   "id": "80c7992f-b9ba-4039-bf23-21514802ca39",
   "metadata": {},
   "source": [
    "Which age level had the highest aceptance rate?"
   ]
  },
  {
   "cell_type": "code",
   "execution_count": 25,
   "id": "869baf11-24c0-4617-ad25-27f3238d01c8",
   "metadata": {},
   "outputs": [
    {
     "name": "stdout",
     "output_type": "stream",
     "text": [
      "Acceptance rate 21 73.80952380952381\n",
      "Acceptance rate 46 75.0\n",
      "Acceptance rate 26 74.18738049713193\n",
      "Acceptance rate 31 70.81339712918661\n",
      "Acceptance rate 41 71.60493827160494\n",
      "Acceptance rate 50plus 63.94736842105263\n",
      "Acceptance rate 36 64.76868327402136\n",
      "Acceptance rate below21 73.72881355932203\n"
     ]
    }
   ],
   "source": [
    "for data_column_value in data['age'].unique():\n",
    "    numSent = cheapRestaurantData.query(\"age == @data_column_value\").shape[0]\n",
    "    numAccepted = cheapRestaurantData.query( \"Y == 1 and age == @data_column_value\").shape[0]\n",
    "    print(\"Acceptance rate \"+ data_column_value + \" \" + str(numAccepted/numSent * 100))"
   ]
  },
  {
   "cell_type": "markdown",
   "id": "7dd12022-3bcf-48c2-a430-e5453d720cfc",
   "metadata": {},
   "source": [
    "Based on these observations, what do you hypothesize about drivers who accepted the cheap restaurant coupon?"
   ]
  },
  {
   "cell_type": "markdown",
   "id": "ea182ec8-706a-4ad4-8b27-5f22444353e1",
   "metadata": {},
   "source": [
    "Overall acceptance rate of bar coupons is around 70 percent. Acceptance rate for when target is 25min out vs 15min or less is significantly higher. The occupation Construction & Extraction had a significantly higher acceptance rate (80 percent). Age, Education and income did not significantly affect acceptance rate. "
   ]
  }
 ],
 "metadata": {
  "kernelspec": {
   "display_name": "Python 3 (ipykernel)",
   "language": "python",
   "name": "python3"
  },
  "language_info": {
   "codemirror_mode": {
    "name": "ipython",
    "version": 3
   },
   "file_extension": ".py",
   "mimetype": "text/x-python",
   "name": "python",
   "nbconvert_exporter": "python",
   "pygments_lexer": "ipython3",
   "version": "3.12.7"
  }
 },
 "nbformat": 4,
 "nbformat_minor": 5
}
